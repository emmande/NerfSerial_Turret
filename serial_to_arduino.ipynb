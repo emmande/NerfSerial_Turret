{
 "cells": [
  {
   "cell_type": "markdown",
   "metadata": {},
   "source": [
    "# This is for transferring command from python to arduino"
   ]
  },
  {
   "cell_type": "code",
   "execution_count": 19,
   "metadata": {},
   "outputs": [
    {
     "name": "stdout",
     "output_type": "stream",
     "text": [
      "rapid firing gun!\n",
      "rapid firing gun!\n",
      "firing gun!\n",
      "firing gun!\n",
      "firing gun!\n",
      "firing gun!\n",
      "firing gun!\n"
     ]
    }
   ],
   "source": [
    "import keyboard\n",
    "import serial\n",
    "\n",
    "import time\n",
    "\n",
    "serialcomm = serial.Serial(\n",
    "    port=\"COM3\", baudrate=9600\n",
    "    , bytesize=8, timeout=2, stopbits=serial.STOPBITS_ONE\n",
    ")\n",
    "\n",
    "serialcomm.timeout = 1\n",
    "\n",
    "while True:\n",
    "    try:\n",
    "        if keyboard.is_pressed('left'):\n",
    "\n",
    "            i=\"l\"    \n",
    "            serialcomm.write(i.encode())\n",
    "#             print('You Pressed le    ft!')\n",
    "        elif keyboard.is_pressed('right'):\n",
    "            i=\"r\"\n",
    "            serialcomm.write(i.encode())\n",
    "#             print('right 4 degrees!')\n",
    "        elif keyboard.is_pressed('down'):\n",
    "            i=\"d\"\n",
    "            serialcomm.write(i.encode())\n",
    "#             print('right 4 degrees!')\n",
    "        elif keyboard.is_pressed('up'):\n",
    "            i=\"u\" \n",
    "            serialcomm.write(i.encode())\n",
    "#             print('right 4 degrees!')\n",
    "        elif keyboard.is_pressed('space'):\n",
    "            i=\"f\"\n",
    "            time.sleep(0.15)\n",
    "            serialcomm.write(i.encode())\n",
    "            print('firing gun!')\n",
    "        elif keyboard.is_pressed('tab'):\n",
    "            i=\"s\"\n",
    "            time.sleep(0.15)\n",
    "            serialcomm.write(i.encode())\n",
    "            print('rapid firing gun!')\n",
    "        elif keyboard.is_pressed('esc'):\n",
    "            print('exit!')\n",
    "            break\n",
    "        time.sleep(0.001)\n",
    "\n",
    "    except:\n",
    "        break"
   ]
  },
  {
   "cell_type": "code",
   "execution_count": null,
   "metadata": {},
   "outputs": [],
   "source": []
  },
  {
   "cell_type": "code",
   "execution_count": null,
   "metadata": {},
   "outputs": [],
   "source": []
  }
 ],
 "metadata": {
  "kernelspec": {
   "display_name": "Python 3",
   "language": "python",
   "name": "python3"
  },
  "language_info": {
   "codemirror_mode": {
    "name": "ipython",
    "version": 3
   },
   "file_extension": ".py",
   "mimetype": "text/x-python",
   "name": "python",
   "nbconvert_exporter": "python",
   "pygments_lexer": "ipython3",
   "version": "3.8.3"
  }
 },
 "nbformat": 4,
 "nbformat_minor": 4
}
