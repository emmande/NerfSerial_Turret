{
 "cells": [
  {
   "cell_type": "markdown",
   "metadata": {},
   "source": [
    "# This is for transferring command from python to arduino"
   ]
  },
  {
   "cell_type": "code",
   "execution_count": 8,
   "metadata": {},
   "outputs": [
    {
     "name": "stdout",
     "output_type": "stream",
     "text": [
      "firing gun!\n",
      "firing gun!\n",
      "rapid firing gun!\n",
      "firing gun!\n",
      "rapid firing gun!\n",
      "rapid firing gun!\n",
      "firing gun!\n",
      "firing gun!\n",
      "firing gun!\n",
      "firing gun!\n",
      "firing gun!\n",
      "firing gun!\n",
      "firing gun!\n",
      "rapid firing gun!\n",
      "firing gun!\n",
      "firing gun!\n",
      "firing gun!\n",
      "firing gun!\n",
      "firing gun!\n",
      "firing gun!\n",
      "firing gun!\n",
      "firing gun!\n",
      "firing gun!\n",
      "exit!\n"
     ]
    }
   ],
   "source": [
    "import keyboard\n",
    "import serial\n",
    "\n",
    "import time\n",
    "\n",
    "serialcomm = serial.Serial(\n",
    "    port=\"COM3\", baudrate=9600\n",
    "    # port=\"/dev/ttyACM0\", baudrate=9600\n",
    "    , bytesize=8, timeout=2, stopbits=serial.STOPBITS_ONE\n",
    ")\n",
    "\n",
    "serialcomm.timeout = 1\n",
    "\n",
    "while True:\n",
    "    try:\n",
    "        if keyboard.is_pressed('left'):\n",
    "            i=\"l\"    \n",
    "            serialcomm.write(i.encode())\n",
    "#             print('You Pressed le    ft!')\n",
    "        elif keyboard.is_pressed('right'):\n",
    "            i=\"r\"\n",
    "            serialcomm.write(i.encode())\n",
    "#             print('right 4 degrees!')\n",
    "        elif keyboard.is_pressed('down'):\n",
    "            i=\"d\"\n",
    "            serialcomm.write(i.encode())\n",
    "#             print('right 4 degrees!')\n",
    "        elif keyboard.is_pressed('up'):\n",
    "            i=\"u\" \n",
    "            serialcomm.write(i.encode())\n",
    "#             print('right 4 degrees!')\n",
    "        elif keyboard.is_pressed('space'):\n",
    "            i=\"f\"\n",
    "            time.sleep(0.15)\n",
    "            serialcomm.write(i.encode())\n",
    "            print('firing gun!')\n",
    "        elif keyboard.is_pressed('tab'):\n",
    "            i=\"s\"\n",
    "            time.sleep(0.15)\n",
    "            serialcomm.write(i.encode())\n",
    "            print('rapid firing gun!')\n",
    "        elif keyboard.is_pressed('esc'):\n",
    "            print('exit!')\n",
    "            break\n",
    "        time.sleep(0.001)\n",
    "\n",
    "    except:\n",
    "        break"
   ]
  },
  {
   "cell_type": "markdown",
   "metadata": {},
   "source": [
    "## GUI Version"
   ]
  },
  {
   "cell_type": "code",
   "execution_count": 1,
   "metadata": {},
   "outputs": [
    {
     "ename": "SerialException",
     "evalue": "could not open port 'COM3': FileNotFoundError(2, 'The system cannot find the file specified.', None, 2)",
     "output_type": "error",
     "traceback": [
      "\u001b[1;31m---------------------------------------------------------------------------\u001b[0m",
      "\u001b[1;31mSerialException\u001b[0m                           Traceback (most recent call last)",
      "\u001b[1;32m<ipython-input-1-4354f2957d26>\u001b[0m in \u001b[0;36m<module>\u001b[1;34m\u001b[0m\n\u001b[0;32m      3\u001b[0m \u001b[1;32mimport\u001b[0m \u001b[0mtime\u001b[0m\u001b[1;33m\u001b[0m\u001b[1;33m\u001b[0m\u001b[0m\n\u001b[0;32m      4\u001b[0m \u001b[1;33m\u001b[0m\u001b[0m\n\u001b[1;32m----> 5\u001b[1;33m serialcomm = serial.Serial(\n\u001b[0m\u001b[0;32m      6\u001b[0m     \u001b[0mport\u001b[0m\u001b[1;33m=\u001b[0m\u001b[1;34m\"COM3\"\u001b[0m\u001b[1;33m,\u001b[0m \u001b[0mbaudrate\u001b[0m\u001b[1;33m=\u001b[0m\u001b[1;36m9600\u001b[0m\u001b[1;33m\u001b[0m\u001b[1;33m\u001b[0m\u001b[0m\n\u001b[0;32m      7\u001b[0m     \u001b[1;31m# port=\"/dev/ttyACM0\", baudrate=9600\u001b[0m\u001b[1;33m\u001b[0m\u001b[1;33m\u001b[0m\u001b[1;33m\u001b[0m\u001b[0m\n",
      "\u001b[1;32m~\\anaconda3\\envs\\dummy\\lib\\site-packages\\serial\\serialwin32.py\u001b[0m in \u001b[0;36m__init__\u001b[1;34m(self, *args, **kwargs)\u001b[0m\n\u001b[0;32m     31\u001b[0m         \u001b[0mself\u001b[0m\u001b[1;33m.\u001b[0m\u001b[0m_overlapped_read\u001b[0m \u001b[1;33m=\u001b[0m \u001b[1;32mNone\u001b[0m\u001b[1;33m\u001b[0m\u001b[1;33m\u001b[0m\u001b[0m\n\u001b[0;32m     32\u001b[0m         \u001b[0mself\u001b[0m\u001b[1;33m.\u001b[0m\u001b[0m_overlapped_write\u001b[0m \u001b[1;33m=\u001b[0m \u001b[1;32mNone\u001b[0m\u001b[1;33m\u001b[0m\u001b[1;33m\u001b[0m\u001b[0m\n\u001b[1;32m---> 33\u001b[1;33m         \u001b[0msuper\u001b[0m\u001b[1;33m(\u001b[0m\u001b[0mSerial\u001b[0m\u001b[1;33m,\u001b[0m \u001b[0mself\u001b[0m\u001b[1;33m)\u001b[0m\u001b[1;33m.\u001b[0m\u001b[0m__init__\u001b[0m\u001b[1;33m(\u001b[0m\u001b[1;33m*\u001b[0m\u001b[0margs\u001b[0m\u001b[1;33m,\u001b[0m \u001b[1;33m**\u001b[0m\u001b[0mkwargs\u001b[0m\u001b[1;33m)\u001b[0m\u001b[1;33m\u001b[0m\u001b[1;33m\u001b[0m\u001b[0m\n\u001b[0m\u001b[0;32m     34\u001b[0m \u001b[1;33m\u001b[0m\u001b[0m\n\u001b[0;32m     35\u001b[0m     \u001b[1;32mdef\u001b[0m \u001b[0mopen\u001b[0m\u001b[1;33m(\u001b[0m\u001b[0mself\u001b[0m\u001b[1;33m)\u001b[0m\u001b[1;33m:\u001b[0m\u001b[1;33m\u001b[0m\u001b[1;33m\u001b[0m\u001b[0m\n",
      "\u001b[1;32m~\\anaconda3\\envs\\dummy\\lib\\site-packages\\serial\\serialutil.py\u001b[0m in \u001b[0;36m__init__\u001b[1;34m(self, port, baudrate, bytesize, parity, stopbits, timeout, xonxoff, rtscts, write_timeout, dsrdtr, inter_byte_timeout, exclusive, **kwargs)\u001b[0m\n\u001b[0;32m    242\u001b[0m \u001b[1;33m\u001b[0m\u001b[0m\n\u001b[0;32m    243\u001b[0m         \u001b[1;32mif\u001b[0m \u001b[0mport\u001b[0m \u001b[1;32mis\u001b[0m \u001b[1;32mnot\u001b[0m \u001b[1;32mNone\u001b[0m\u001b[1;33m:\u001b[0m\u001b[1;33m\u001b[0m\u001b[1;33m\u001b[0m\u001b[0m\n\u001b[1;32m--> 244\u001b[1;33m             \u001b[0mself\u001b[0m\u001b[1;33m.\u001b[0m\u001b[0mopen\u001b[0m\u001b[1;33m(\u001b[0m\u001b[1;33m)\u001b[0m\u001b[1;33m\u001b[0m\u001b[1;33m\u001b[0m\u001b[0m\n\u001b[0m\u001b[0;32m    245\u001b[0m \u001b[1;33m\u001b[0m\u001b[0m\n\u001b[0;32m    246\u001b[0m     \u001b[1;31m#  -  -  -  -  -  -  -  -  -  -  -  -  -  -  -  -  -  -  -  -  -  -  -  -\u001b[0m\u001b[1;33m\u001b[0m\u001b[1;33m\u001b[0m\u001b[1;33m\u001b[0m\u001b[0m\n",
      "\u001b[1;32m~\\anaconda3\\envs\\dummy\\lib\\site-packages\\serial\\serialwin32.py\u001b[0m in \u001b[0;36mopen\u001b[1;34m(self)\u001b[0m\n\u001b[0;32m     62\u001b[0m         \u001b[1;32mif\u001b[0m \u001b[0mself\u001b[0m\u001b[1;33m.\u001b[0m\u001b[0m_port_handle\u001b[0m \u001b[1;33m==\u001b[0m \u001b[0mwin32\u001b[0m\u001b[1;33m.\u001b[0m\u001b[0mINVALID_HANDLE_VALUE\u001b[0m\u001b[1;33m:\u001b[0m\u001b[1;33m\u001b[0m\u001b[1;33m\u001b[0m\u001b[0m\n\u001b[0;32m     63\u001b[0m             \u001b[0mself\u001b[0m\u001b[1;33m.\u001b[0m\u001b[0m_port_handle\u001b[0m \u001b[1;33m=\u001b[0m \u001b[1;32mNone\u001b[0m    \u001b[1;31m# 'cause __del__ is called anyway\u001b[0m\u001b[1;33m\u001b[0m\u001b[1;33m\u001b[0m\u001b[0m\n\u001b[1;32m---> 64\u001b[1;33m             \u001b[1;32mraise\u001b[0m \u001b[0mSerialException\u001b[0m\u001b[1;33m(\u001b[0m\u001b[1;34m\"could not open port {!r}: {!r}\"\u001b[0m\u001b[1;33m.\u001b[0m\u001b[0mformat\u001b[0m\u001b[1;33m(\u001b[0m\u001b[0mself\u001b[0m\u001b[1;33m.\u001b[0m\u001b[0mportstr\u001b[0m\u001b[1;33m,\u001b[0m \u001b[0mctypes\u001b[0m\u001b[1;33m.\u001b[0m\u001b[0mWinError\u001b[0m\u001b[1;33m(\u001b[0m\u001b[1;33m)\u001b[0m\u001b[1;33m)\u001b[0m\u001b[1;33m)\u001b[0m\u001b[1;33m\u001b[0m\u001b[1;33m\u001b[0m\u001b[0m\n\u001b[0m\u001b[0;32m     65\u001b[0m \u001b[1;33m\u001b[0m\u001b[0m\n\u001b[0;32m     66\u001b[0m         \u001b[1;32mtry\u001b[0m\u001b[1;33m:\u001b[0m\u001b[1;33m\u001b[0m\u001b[1;33m\u001b[0m\u001b[0m\n",
      "\u001b[1;31mSerialException\u001b[0m: could not open port 'COM3': FileNotFoundError(2, 'The system cannot find the file specified.', None, 2)"
     ]
    }
   ],
   "source": [
    "import tkinter as tk\n",
    "import serial\n",
    "import time\n",
    "\n",
    "serialcomm = serial.Serial(\n",
    "    port=\"COM3\", baudrate=9600\n",
    "    # port=\"/dev/ttyACM0\", baudrate=9600\n",
    "    , bytesize=8, timeout=2, stopbits=serial.STOPBITS_ONE\n",
    ")\n",
    "\n",
    "serialcomm.timeout = 1\n",
    "\n",
    "def upturn():\n",
    "    i=\"u\"    \n",
    "    serialcomm.write(i.encode())\n",
    "\n",
    "def downturn():\n",
    "    i=\"d\"    \n",
    "    serialcomm.write(i.encode())\n",
    "\n",
    "def leftturn():\n",
    "    i=\"l\"    \n",
    "    serialcomm.write(i.encode())\n",
    "\n",
    "def rightturn():\n",
    "    i=\"r\"    \n",
    "    serialcomm.write(i.encode())\n",
    "    \n",
    "def fire():\n",
    "    i=\"f\"    \n",
    "    time.sleep(0.2)\n",
    "    serialcomm.write(i.encode())\n",
    "    \n",
    "\n",
    "root = tk.Tk()\n",
    "root.title(\"RoboGun Control\")\n",
    "btn_up=tk.Button(root,text=\"^\",command=upturn, bg=\"green\")\n",
    "btn_up.grid(row=1,column=3, sticky=\"n\")\n",
    "\n",
    "btn_lft=tk.Button(root,text=\"<\",command=leftturn, bg=\"green\")\n",
    "btn_lft.grid(row=2,column=2, sticky=\"w\")\n",
    "\n",
    "btn_rgh=tk.Button(root,text=\">\",command=rightturn, bg=\"green\")\n",
    "btn_rgh.grid(row=2,column=4, sticky=\"e\")\n",
    "\n",
    "btn_dwn=tk.Button(root,text=\"v\",command=downturn, bg=\"green\")\n",
    "btn_dwn.grid(row=3,column=3, sticky=\"s\")\n",
    "\n",
    "btn_fire=tk.Button(root,text=\"FIRE\",command=fire, bg=\"red\")\n",
    "btn_fire.grid(row=2,column=3, sticky=\"s\")\n",
    "\n",
    "root.geometry(\"300x300\")\n",
    "root.mainloop()"
   ]
  },
  {
   "cell_type": "code",
   "execution_count": null,
   "metadata": {},
   "outputs": [],
   "source": []
  },
  {
   "cell_type": "code",
   "execution_count": null,
   "metadata": {},
   "outputs": [],
   "source": []
  }
 ],
 "metadata": {
  "kernelspec": {
   "display_name": "Python 3",
   "language": "python",
   "name": "python3"
  },
  "language_info": {
   "codemirror_mode": {
    "name": "ipython",
    "version": 3
   },
   "file_extension": ".py",
   "mimetype": "text/x-python",
   "name": "python",
   "nbconvert_exporter": "python",
   "pygments_lexer": "ipython3",
   "version": "3.8.3"
  }
 },
 "nbformat": 4,
 "nbformat_minor": 4
}
